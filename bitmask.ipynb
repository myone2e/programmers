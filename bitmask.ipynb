{
 "cells": [
  {
   "cell_type": "code",
   "execution_count": 4,
   "metadata": {},
   "outputs": [
    {
     "name": "stdout",
     "output_type": "stream",
     "text": [
      "0b100\n",
      "4\n",
      "13\n"
     ]
    }
   ],
   "source": [
    "# bin: 10진수를 2진수로 변환\n",
    "print(bin(4)) # 0b는 2진수라는 것을 의미\n",
    "print(0b100)\n",
    "print(int('1101', 2)) # int써서 변환 가능"
   ]
  },
  {
   "cell_type": "code",
   "execution_count": 11,
   "metadata": {},
   "outputs": [
    {
     "name": "stdout",
     "output_type": "stream",
     "text": [
      "0b1001\n",
      "0b1101\n",
      "0b100\n"
     ]
    }
   ],
   "source": [
    "print(bin(0b1101 & 0b1001)) # and 는 같이 1인 곳만 1로\n",
    "print(bin(0b1101 | 0b1001)) # or 는 하나만 1이면 1로\n",
    "print(bin(0b1101 ^ 0b1001)) # xor은 달라야 1로"
   ]
  },
  {
   "cell_type": "code",
   "execution_count": 9,
   "metadata": {},
   "outputs": [
    {
     "name": "stdout",
     "output_type": "stream",
     "text": [
      "3\n",
      "0b1100\n",
      "12\n"
     ]
    }
   ],
   "source": [
    "print(0b0011) # 3\n",
    "print(bin(0b0011 << 2)) # 왼쪽으로 2번 민다\n",
    "print(0b0011<<2)"
   ]
  },
  {
   "cell_type": "code",
   "execution_count": 10,
   "metadata": {},
   "outputs": [
    {
     "name": "stdout",
     "output_type": "stream",
     "text": [
      "12\n",
      "0b110000\n",
      "3\n"
     ]
    }
   ],
   "source": [
    "print(0b1100) # 3\n",
    "print(bin(0b1100 << 2)) # 왼쪽으로 2번 민다\n",
    "print(0b1100>>2)"
   ]
  },
  {
   "cell_type": "code",
   "execution_count": 14,
   "metadata": {},
   "outputs": [
    {
     "name": "stdout",
     "output_type": "stream",
     "text": [
      "0b10\n",
      "2\n"
     ]
    }
   ],
   "source": [
    "a = 0b0011 # 3\n",
    "b = 0b0010\n",
    "a &= b\n",
    "print(bin(a))\n",
    "print(a)"
   ]
  },
  {
   "cell_type": "code",
   "execution_count": 18,
   "metadata": {},
   "outputs": [
    {
     "name": "stdout",
     "output_type": "stream",
     "text": [
      "0b11\n",
      "0b110000\n",
      "48\n"
     ]
    }
   ],
   "source": [
    "a = 0b0011 # 3\n",
    "print(bin(a))\n",
    "a <<= 4\n",
    "print(bin(a))\n",
    "print(a)"
   ]
  },
  {
   "cell_type": "code",
   "execution_count": 19,
   "metadata": {},
   "outputs": [
    {
     "name": "stdout",
     "output_type": "stream",
     "text": [
      "0b11\n",
      "0b110\n",
      "6\n"
     ]
    }
   ],
   "source": [
    "a = 0b0011 # 3\n",
    "print(bin(a))\n",
    "a <<= 1\n",
    "print(bin(a))\n",
    "print(a)"
   ]
  },
  {
   "cell_type": "code",
   "execution_count": 20,
   "metadata": {},
   "outputs": [
    {
     "name": "stdout",
     "output_type": "stream",
     "text": [
      "0b1010\n"
     ]
    }
   ],
   "source": [
    "# 원소 추가\n",
    "n = 3\n",
    "print(bin(0b0010 | (1 << n)))  #  0b1010"
   ]
  },
  {
   "cell_type": "code",
   "execution_count": 21,
   "metadata": {},
   "outputs": [
    {
     "name": "stdout",
     "output_type": "stream",
     "text": [
      "0b10\n"
     ]
    }
   ],
   "source": [
    "# 원소 삭제\n",
    "n = 3\n",
    "print(bin(0b1010 & ~(1 << n))) # 0b10"
   ]
  },
  {
   "cell_type": "code",
   "execution_count": 22,
   "metadata": {},
   "outputs": [
    {
     "name": "stdout",
     "output_type": "stream",
     "text": [
      "0b1000\n"
     ]
    }
   ],
   "source": [
    "# 원소 조회\n",
    "n = 3\n",
    "print(bin(0b1010 & (1 << n)))  #  0b1000 # 0을 리턴하면 없다"
   ]
  },
  {
   "cell_type": "code",
   "execution_count": 28,
   "metadata": {},
   "outputs": [
    {
     "name": "stdout",
     "output_type": "stream",
     "text": [
      "0b10\n",
      "0b1010\n",
      "0b1110\n"
     ]
    }
   ],
   "source": [
    "# 원소 역전 (flag) # 1이면 0으로\n",
    "print(bin(0b1010 ^ (1 << 3)))  #  0b10\n",
    "print(bin(0b1010 ^ (0 << 3)))\n",
    "print(bin(0b1010 ^ (1 << 2))) # 0이면 1로"
   ]
  },
  {
   "cell_type": "code",
   "execution_count": null,
   "metadata": {},
   "outputs": [],
   "source": []
  },
  {
   "cell_type": "code",
   "execution_count": null,
   "metadata": {},
   "outputs": [],
   "source": []
  }
 ],
 "metadata": {
  "interpreter": {
   "hash": "db3f9596c5aba5087c9c8d1f1b99adecf5bd2d533081155cfbf15515ccfe8efa"
  },
  "kernelspec": {
   "display_name": "Python 3.8.12 ('base')",
   "language": "python",
   "name": "python3"
  },
  "language_info": {
   "codemirror_mode": {
    "name": "ipython",
    "version": 3
   },
   "file_extension": ".py",
   "mimetype": "text/x-python",
   "name": "python",
   "nbconvert_exporter": "python",
   "pygments_lexer": "ipython3",
   "version": "3.8.12"
  },
  "orig_nbformat": 4
 },
 "nbformat": 4,
 "nbformat_minor": 2
}
